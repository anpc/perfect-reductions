{
 "cells": [
  {
   "cell_type": "code",
   "execution_count": 2,
   "metadata": {
    "collapsed": false
   },
   "outputs": [
    {
     "data": {
      "text/plain": [
       "4"
      ]
     },
     "execution_count": 2,
     "metadata": {
     },
     "output_type": "execute_result"
    }
   ],
   "source": [
    "2+2"
   ]
  },
  {
   "cell_type": "markdown",
   "metadata": {
    "collapsed": false
   },
   "source": [
    "To find the space of possible honest $d\\in \\{0, 1\\}^{2t}$ distributions, we use server privacy against malicious clients.\n",
    "\n",
    "This is without accounting for (c, d)-pairs in the honest realm as special cases (here much more is known about **each** individual pair, rather then weaker constraints on the entire distribution $C^i$ $D^w$ that follow from correctness against malicious clients and servers respectively.)"
   ]
  },
  {
   "cell_type": "code",
   "execution_count": 1,
   "metadata": {
    "collapsed": false
   },
   "outputs": [
   ],
   "source": [
    "# Model client correctness against malicious servers. Expected to have the biggest solution-liminiting impact\n",
    "# generate the variable set\n",
    "\n",
    "import itertools\n",
    "import random\n",
    "\n",
    "    \n",
    "def d_at_c(d, c):\n",
    "    return tuple(d[i][c[i]] for i, x in enumerate(d))\n",
    "    "
   ]
  },
  {
   "cell_type": "code",
   "execution_count": 2,
   "metadata": {
    "collapsed": false
   },
   "outputs": [
   ],
   "source": [
    "# Checks that a given vector solves the required equations of type 1. The inequalities x_i >= 0 \n",
    "# are not included. The vector is specified by 3 dictionaries, for i=3, 2, 1 respectively\n",
    "def checkCSolution(C, l=3):\n",
    "    # TODO:\n",
    "    # 1. Verify that the di's have disjoint key names\n",
    "    # 2. Verify the structure of each index.\n",
    "    # 3. The values in the dictionary should be in Q, as we need check equality precisely.\n",
    "    # Verify that the induced distributions are indeed valid C's\n",
    "    for i in range(3):\n",
    "        key_prefixes = {t1 for (t1, t2, t3) in C[i].keys()}\n",
    "        for t1 in key_prefixes:\n",
    "            first_pref = (t1, (0, 0, 0))\n",
    "            sum_first = sum(C[i][first_pref +  (pair, )] for pair in itertools.product(range(2), repeat=2))\n",
    "            for t2 in itertools.product(range(2), repeat = 3):\n",
    "                sum_cur = sum(C[i][(t1, t2) + (pair, )] for pair in itertools.product(range(2), repeat=2))\n",
    "                if (sum_left - sum_first != 0):\n",
    "                    return false\n",
    "    for d in itertools.product(itertools.product(range(2), repeat = 2), repeat = 3):\n",
    "        # dependencies within i=3\n",
    "        sum_c3 = sum(C[3][(c3, d_at_c(d, c3), pair)] for (c3, pair) in itertools.product(C[3], itertools.product(range(2), repeat=2)))\n",
    "        if (sum_c3 != 1):\n",
    "            return false\n",
    "        # dependencies of i=2 on i=2, 3\n",
    "        c3_00_01 = sum(C[3][(c3, d_at_c(d, c3), (0, 0))] + C[3][(c3, d_at_c(d, c3), (0, 1))] for c3 in C[3])\n",
    "        c2_00_01 = sum(C[2][(c2, d_at_c(d, c2), (0, 0))] + C[2][(c2, d_at_c(d, c2), (0, 1))] for c2 in C[2])\n",
    "        \n",
    "        if (c3_00_01 != c2_00_01):\n",
    "            return false\n",
    "        c3_10_11 = sum(C[3][(c3, d_at_c(d, c3), (1, 0))] + C[3][(c3, d_at_c(d, c3), (1, 1))] for c3 in C[3])\n",
    "        c2_10_11 = sum(C[2][(c2, d_at_c(d, c2), (1, 0))] + C[2][(c2, d_at_c(d, c2), (1, 1))] for c2 in C[2])\n",
    "        \n",
    "        if (c3_10_11 - c2_10_11 != 0):\n",
    "            return false\n",
    "        \n",
    "        # dependencies of i=1 on i=1, 2, 3\n",
    "        c1_00_01 = sum(C[1][(c1, d_at_c(d, c1), (0, 0))] + C[1][(c1, d_at_c(d, c1), (0, 1))] for c1 in C[1])\n",
    "        c3_00_10 = sum(C[3][(c3, d_at_c(d, c3), (0, 0))] + C[3][(c3, d_at_c(d, c3), (1, 0))] for c3 in C[3])\n",
    "        \n",
    "        if (c1_00_01 - c3_00_10 != 0):\n",
    "            return false\n",
    "        \n",
    "        c1_00_10 = sum(C[1][(c1, d_at_c(d, c1), (0, 0))] + C[1][(c1, d_at_c(d, c1), (1, 0))] for c1 in C[1])\n",
    "        c2_00_10 = sum(C[2][(c2, d_at_c(d, c2), (0, 0))] + C[2][(c2, d_at_c(d, c2), (1, 0))] for c2 in C[2])\n",
    "        \n",
    "        if (c1_00_10 - c2_00_10 != 0):\n",
    "            return false\n",
    "         \n",
    "        c1_01_11 = sum(C[1][(c1, d_at_c(d, c1), (0, 1))] + C[1][(c1, d_at_c(d, c1), (1, 1))] for c1 in C[1])\n",
    "        c2_01_11 = sum(C[2][(c2, d_at_c(d, c2), (0, 1))] + C[2][(c2, d_at_c(d, c2), (1, 1))] for c2 in C[2])\n",
    "                \n",
    "        if (c1_01_11 - c2_01_11 != 0):\n",
    "            return false\n",
    "        "
   ]
  },
  {
   "cell_type": "code",
   "execution_count": 11,
   "metadata": {
    "collapsed": false,
    "scrolled": true
   },
   "outputs": [
    {
     "name": "stdout",
     "output_type": "stream",
     "text": [
      "C[0] = [(0, 0, 0), (1, 0, 0), (1, 0, 1)]\n",
      "C[1] = [(0, 0, 1), (1, 1, 1)]\n",
      "C[2] = [(0, 1, 1)]\n"
     ]
    },
    {
     "ename": "NameError",
     "evalue": "global name 'QQ' is not defined",
     "output_type": "error",
     "traceback": [
      "\u001b[0;31m---------------------------------------------------------------------------\u001b[0m",
      "\u001b[0;31mNameError\u001b[0m                                 Traceback (most recent call last)",
      "\u001b[0;32m<ipython-input-11-a3d518a6fc0c>\u001b[0m in \u001b[0;36m<module>\u001b[0;34m()\u001b[0m\n\u001b[1;32m    114\u001b[0m \u001b[0;32mprint\u001b[0m \u001b[0;34m'C[1] ='\u001b[0m\u001b[0;34m,\u001b[0m \u001b[0mC\u001b[0m\u001b[0;34m[\u001b[0m\u001b[0;36m1\u001b[0m\u001b[0;34m]\u001b[0m\u001b[0;34m\u001b[0m\u001b[0m\n\u001b[1;32m    115\u001b[0m \u001b[0;32mprint\u001b[0m \u001b[0;34m'C[2] ='\u001b[0m\u001b[0;34m,\u001b[0m \u001b[0mC\u001b[0m\u001b[0;34m[\u001b[0m\u001b[0;36m2\u001b[0m\u001b[0;34m]\u001b[0m\u001b[0;34m\u001b[0m\u001b[0m\n\u001b[0;32m--> 116\u001b[0;31m \u001b[0meq_rank\u001b[0m \u001b[0;34m=\u001b[0m \u001b[0mgenClCorrEq\u001b[0m\u001b[0;34m(\u001b[0m\u001b[0mC\u001b[0m\u001b[0;34m)\u001b[0m\u001b[0;34m\u001b[0m\u001b[0m\n\u001b[0m\u001b[1;32m    117\u001b[0m \u001b[0;32mprint\u001b[0m \u001b[0;34m'rank = '\u001b[0m\u001b[0;34m,\u001b[0m \u001b[0meq_rank\u001b[0m\u001b[0;34m\u001b[0m\u001b[0m\n",
      "\u001b[0;32m<ipython-input-11-a3d518a6fc0c>\u001b[0m in \u001b[0;36mgenClCorrEq\u001b[0;34m(C)\u001b[0m\n\u001b[1;32m     22\u001b[0m             \u001b[0;32mfor\u001b[0m \u001b[0mdv\u001b[0m \u001b[0;32min\u001b[0m \u001b[0mitertools\u001b[0m\u001b[0;34m.\u001b[0m\u001b[0mproduct\u001b[0m\u001b[0;34m(\u001b[0m\u001b[0mrange\u001b[0m\u001b[0;34m(\u001b[0m\u001b[0;36m2\u001b[0m\u001b[0;34m)\u001b[0m\u001b[0;34m,\u001b[0m \u001b[0mrepeat\u001b[0m \u001b[0;34m=\u001b[0m \u001b[0;36m3\u001b[0m\u001b[0;34m)\u001b[0m\u001b[0;34m:\u001b[0m\u001b[0;34m\u001b[0m\u001b[0m\n\u001b[1;32m     23\u001b[0m                 \u001b[0;32mif\u001b[0m \u001b[0mdv\u001b[0m \u001b[0;34m!=\u001b[0m \u001b[0;34m(\u001b[0m\u001b[0;36m0\u001b[0m\u001b[0;34m,\u001b[0m \u001b[0;36m0\u001b[0m\u001b[0;34m,\u001b[0m \u001b[0;36m0\u001b[0m\u001b[0;34m)\u001b[0m\u001b[0;34m:\u001b[0m\u001b[0;34m\u001b[0m\u001b[0m\n\u001b[0;32m---> 24\u001b[0;31m                     \u001b[0mcur_row\u001b[0m \u001b[0;34m=\u001b[0m \u001b[0;34m[\u001b[0m\u001b[0mQQ\u001b[0m\u001b[0;34m(\u001b[0m\u001b[0;36m0\u001b[0m\u001b[0;34m)\u001b[0m \u001b[0;32mfor\u001b[0m \u001b[0mi\u001b[0m \u001b[0;32min\u001b[0m \u001b[0mrange\u001b[0m\u001b[0;34m(\u001b[0m\u001b[0mrow_size\u001b[0m\u001b[0;34m)\u001b[0m\u001b[0;34m]\u001b[0m\u001b[0;34m\u001b[0m\u001b[0m\n\u001b[0m\u001b[1;32m     25\u001b[0m                     \u001b[0;32mfor\u001b[0m \u001b[0mpair\u001b[0m \u001b[0;32min\u001b[0m \u001b[0mitertools\u001b[0m\u001b[0;34m.\u001b[0m\u001b[0mproduct\u001b[0m\u001b[0;34m(\u001b[0m\u001b[0mrange\u001b[0m\u001b[0;34m(\u001b[0m\u001b[0;36m2\u001b[0m\u001b[0;34m)\u001b[0m\u001b[0;34m,\u001b[0m \u001b[0;36m2\u001b[0m\u001b[0;34m)\u001b[0m\u001b[0;34m:\u001b[0m\u001b[0;34m\u001b[0m\u001b[0m\n\u001b[1;32m     26\u001b[0m                         \u001b[0mcur_row\u001b[0m\u001b[0;34m[\u001b[0m\u001b[0mindices\u001b[0m\u001b[0;34m[\u001b[0m\u001b[0;34m(\u001b[0m\u001b[0mc\u001b[0m\u001b[0;34m,\u001b[0m \u001b[0;34m(\u001b[0m\u001b[0;36m0\u001b[0m\u001b[0;34m,\u001b[0m \u001b[0;36m0\u001b[0m\u001b[0;34m,\u001b[0m \u001b[0;36m0\u001b[0m\u001b[0;34m)\u001b[0m\u001b[0;34m,\u001b[0m \u001b[0mpair\u001b[0m\u001b[0;34m)\u001b[0m\u001b[0;34m]\u001b[0m\u001b[0;34m]\u001b[0m \u001b[0;34m=\u001b[0m \u001b[0mQQ\u001b[0m\u001b[0;34m(\u001b[0m\u001b[0;36m1\u001b[0m\u001b[0;34m)\u001b[0m\u001b[0;34m\u001b[0m\u001b[0m\n",
      "\u001b[0;31mNameError\u001b[0m: global name 'QQ' is not defined"
     ]
    }
   ],
   "source": [
    "# The dictionaries here specify only the first coordinate.\n",
    "# Here we assume that the C[i]'s are disjoint. This is wlog. as honest correctness\n",
    "# implies it (this is the only observation based on honest correctness that we are utilizing).\n",
    "# Here the C[i]'s are lists of c's\n",
    "\n",
    "def genClCorrEq(C):\n",
    "    cur_ind = 0\n",
    "    indices = {}\n",
    "    right_hand_side = []\n",
    "    for i in range(3):\n",
    "        for c in C[i]:\n",
    "            for d in itertools.product(range(2), repeat = 3):\n",
    "                for pair in itertools.product(range(2), repeat = 2):\n",
    "                    indices[(c, d, pair)] = cur_ind\n",
    "                    cur_ind = cur_ind + 1\n",
    "                    \n",
    "    row_size = sum(len(C[i]) for i in range(3))\n",
    "    rows = []\n",
    "    # equality constraints                \n",
    "    for i in range(3):\n",
    "        for c in C[i]:\n",
    "            for dv in itertools.product(range(2), repeat = 3):\n",
    "                if dv != (0, 0, 0):\n",
    "                    cur_row = [QQ(0) for i in range(row_size)]\n",
    "                    for pair in itertools.product(range(2), 2):\n",
    "                        cur_row[indices[(c, (0, 0, 0), pair)]] = QQ(1)\n",
    "                        cur_row[indices[(c, dv, pair)]] = QQ(-1)\n",
    "                    rows.append(cur_row)\n",
    "                    right_hand_side.append(QQ(0))\n",
    "            \n",
    "            \n",
    "    for d in itertools.product(itertools.product(range(2), repeat = 2), repeat = 3):\n",
    "        cur_row = [QQ(0) for i in range(row_size)]\n",
    "        # dependencies within i=3\n",
    "        for c3 in C[3]:\n",
    "            for pair in itertools.product(range(2), repeat = 2):\n",
    "                cur_row[indices[(c3, d_at_c(d, c3), pair)]] = QQ(1)\n",
    "        rows.append(cur_row)     \n",
    "        right_hand_size.append(QQ(1))\n",
    "                                \n",
    "        # dependencies of i=2 on i=2, 3\n",
    "        cur_row = [QQ(0) for i in range(row_size)]\n",
    "        for c3 in C[3]:\n",
    "            cur_row[indices[(c3, d_at_c(d, c3), (0, 0))]] = QQ(1)\n",
    "            cur_row[indices[(c3, d_at_c(d, c3), (0, 1))]] = QQ(1)\n",
    "        for c2 in C[2]:\n",
    "            cur_row[indices[(c2, d_at_c(d, c2), (0, 0))]] = QQ(-1)\n",
    "            cur_row[indices[(c2, d_at_c(d, c2), (0, 1))]] = QQ(-1)\n",
    "        rows.append(cur_row)\n",
    "        right_hand.append(QQ(0))            \n",
    "                    \n",
    "        cur_row = [QQ(0) for i in range(row_size)]\n",
    "        for c3 in C[3]:\n",
    "            cur_row[indices[(c3, d_at_c(d, c3), (1, 0))]] = QQ(1)\n",
    "            cur_row[indices[(c3, d_at_c(d, c3), (1, 1))]] = QQ(1)\n",
    "        for c2 in C[2]:\n",
    "            cur_row[indices[(c2, d_at_c(d, c2), (1, 0))]] = QQ(-1)\n",
    "            cur_row[indices[(c2, d_at_c(d, c2), (1, 1))]] = QQ(-1)\n",
    "        rows.append(cur_row)\n",
    "        right_hand.append(QQ(0))\n",
    "                    \n",
    "        # dependencies of i=1 on i=1, 2, 3\n",
    "        cur_row = [QQ(0) for i in range(row_size)]\n",
    "        for c1 in C[1]:\n",
    "            cur_row[indices[(c3, d_at_c(d, c3), (0, 0))]] = QQ(1)\n",
    "            cur_row[indices[(c3, d_at_c(d, c3), (0, 1))]] = QQ(1)\n",
    "        for c3 in C[3]:\n",
    "            cur_row[indices[(c2, d_at_c(d, c2), (0, 0))]] = QQ(-1)\n",
    "            cur_row[indices[(c2, d_at_c(d, c2), (1, 0))]] = QQ(-1)\n",
    "        rows.append(cur_row)\n",
    "        right_hand.append(QQ(0))\n",
    "\n",
    "        \n",
    "        cur_row = [QQ(0) for i in range(row_size)]\n",
    "        for c1 in C[1]:\n",
    "            cur_row[indices[(c3, d_at_c(d, c3), (0, 0))]] = QQ(1)\n",
    "            cur_row[indices[(c3, d_at_c(d, c3), (1, 0))]] = QQ(1)\n",
    "        for c2 in C[2]:\n",
    "            cur_row[indices[(c2, d_at_c(d, c2), (0, 0))]] = QQ(-1)\n",
    "            cur_row[indices[(c2, d_at_c(d, c2), (1, 0))]] = QQ(-1)\n",
    "        rows.append(cur_row)\n",
    "        right_hand.append(QQ(0))\n",
    "                    \n",
    "        \n",
    "        cur_row = [QQ(0) for i in range(row_size)]\n",
    "        for c1 in C[1]:\n",
    "            cur_row[indices[(c3, d_at_c(d, c3), (0, 1))]] = QQ(1)\n",
    "            cur_row[indices[(c3, d_at_c(d, c3), (1, 1))]] = QQ(1)\n",
    "        for c2 in C[2]:\n",
    "            cur_row[indices[(c2, d_at_c(d, c2), (0, 1))]] = QQ(-1)\n",
    "            cur_row[indices[(c2, d_at_c(d, c2), (1, 1))]] = QQ(-1)\n",
    "        rows.append(cur_row)\n",
    "        right_hand.append(QQ(0))\n",
    "                    \n",
    "    # Check matrix rank\n",
    "    m = matrix(QQ, rows)\n",
    "    print 'equations matrix = ', m\n",
    "    return m.rank()               \n",
    "    # Check for slovability               \n",
    "\n",
    "def GenRandomC():\n",
    "    C = [[], [], []]\n",
    "    while True:                \n",
    "        for c in itertools.product(range(2), repeat = 3):             \n",
    "            r = random.randint(0, 3)                \n",
    "            if (r != 3):\n",
    "                C[r].append(c)\n",
    "        if (len(C[0]) > 0) and (len(C[1]) > 0) and (len(C[2]) > 0):\n",
    "            return C        \n",
    "\n",
    "# main code\n",
    "C = GenRandomC()\n",
    "print 'C[0] =', C[0]\n",
    "print 'C[1] =', C[1]\n",
    "print 'C[2] =', C[2]\n",
    "eq_rank = genClCorrEq(C)\n",
    "print 'rank = ', eq_rank"
   ]
  },
  {
   "cell_type": "code",
   "execution_count": 4,
   "metadata": {
    "collapsed": false
   },
   "outputs": [
    {
     "data": {
      "text/plain": [
       "{0, 1}"
      ]
     },
     "execution_count": 4,
     "metadata": {
     },
     "output_type": "execute_result"
    }
   ],
   "source": [
    "{i**2 for i in [-1, 0, 1]}"
   ]
  },
  {
   "cell_type": "code",
   "execution_count": 0,
   "metadata": {
    "collapsed": false
   },
   "outputs": [
   ],
   "source": [
   ]
  }
 ],
 "metadata": {
  "kernelspec": {
   "display_name": "Python 2 (SageMath)",
   "language": "python",
   "name": "python2"
  }
 },
 "nbformat": 4,
 "nbformat_minor": 0
}