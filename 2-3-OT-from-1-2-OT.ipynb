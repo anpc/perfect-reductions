{
 "cells": [
  {
   "cell_type": "markdown",
   "metadata": {
    "collapsed": false
   },
   "source": [
    "# This project explores the construction of 2-out-of-3-OT from 1-of-2-OT\n",
    "\n",
    "Here we make $T$ parallel calls to the OT oracles.\n",
    "\n",
    "We start with $T = 3$\n",
    "\n",
    "## Problem representation:\n",
    "\n",
    "$C_1,C_2,C_3$ are the client's valid inputs.\n",
    "\n",
    "From client's correctness, each 6-tuple of bits is assigned to some $(x1,x2,x3)$ triple.\n",
    "\n",
    "The assignments should create an independent set in a graph with $2^{2T+3}$ veritces.\n",
    "\n",
    "There is an edge between $v_g$ and ${v'}_{g'}$ iff. $g$ and $g'$ differ of a pair $(i,j)=[3]\\setminus \\{k\\}$ of bits, but $v[c_k] \\ne v'[c_k]$."
   ]
  },
  {
   "cell_type": "code",
   "execution_count": 1,
   "metadata": {
    "collapsed": false
   },
   "outputs": [
    {
     "name": "stdout",
     "output_type": "stream",
     "text": [
      "starting up\n",
      "vectors =  [(0, 0, 0), (0, 0, 1), (0, 1, 0), (0, 1, 1), (1, 0, 0), (1, 0, 1), (1, 1, 0), (1, 1, 1)]\n",
      "started with i =  (0, 0, 0, 0, 0)\n",
      "flags = went over endings in  (0, 0, 0, 0, 0)  =  [(1, 2), (2, 1)]\n",
      "c distribution =  (0, 0, 0, 0, 0, 1, 2)\n",
      "generating LP..\n"
     ]
    },
    {
     "name": "stderr",
     "output_type": "stream",
     "text": [
      "Kernel terminated -- this might be caused by running out of memory or hitting a bug in some library (e.g., forking too many processes, trying to access invalid memory, etc.). Consider restarting or upgrading your project or running the relevant code directly in a terminal to track down the cause."
     ]
    }
   ],
   "source": [
    "import itertools\n",
    "import pprint\n",
    "\n",
    "# TODO: change hardcoded 3 into T everywhere in the code\n",
    "\n",
    "def tup_2_num(g):\n",
    "    (ind, v_arr) = g\n",
    "    return 256*ind[0] + 128*ind[1] + 64*ind[2] + v_arr[2][1] + 2*v_arr[2][0] + 4*v_arr[1][1] + 8*v_arr[1][0] + 16*v_arr[0][1] + 32*v_arr[0][0]\n",
    "\n",
    "def change_one(pair, index, new_value):\n",
    "    \"\"\"Return new tuple with one element modified.\"\"\"\n",
    "    new_pair = list(pair)\n",
    "    new_pair[index] = new_value\n",
    "    return tuple(new_pair)\n",
    "\n",
    "def product(*args, **kwargs):\n",
    "    return list(itertools.product(*args, **kwargs))\n",
    "\n",
    "# v_arr has the right value at c projection fixed\n",
    "def add_constraints1(constraint_list, client_index, v_ind1, v_ind2, v_arr):\n",
    "     weights = {}\n",
    "     v_ind_list = [v_ind1, v_ind2]\n",
    "     w = [1, -1] \n",
    "     L = [0 for i in range(512)]   \n",
    "     for i in range(2):\n",
    "         v_ind = v_ind_list[i]\n",
    "         weight = w[i]   \n",
    "         for rest in itertools.product(range(2), repeat = 3):\n",
    "             v_arr_new = tuple([change_one(pair, c^1, r)\n",
    "                                        for (pair, c, r) in zip(v_arr, client_index, rest)])\n",
    "             L[tup_2_num((v_ind, v_arr_new))] = weight\n",
    "     constraint_list.append(tuple(L + [0]))\n",
    "     constraint_list.append(tuple([-x for x in L] + [0]))   \n",
    "        \n",
    "def add_constraints2(constraint_list, v_ind):\n",
    "    L = [0 for i in range(512)]\n",
    "    for v_arr in product(list(product(range(2), repeat = 2)), repeat = 3):\n",
    "        L[tup_2_num((v_ind, v_arr))] = -1\n",
    "    constraint_list.append(tuple(L + [1]))\n",
    "    constraint_list.append(tuple([-x for x in L] + [-1]))\n",
    "    # print 'added according to L = ',L    \n",
    "    # p.add_constraint(sum(lv[o] for o in L) <= 1)\n",
    "    # p.add_constraint(sum(-lv[o] for o in L) <= -1)\n",
    "\n",
    "def add_var_constraints(constraint_list):\n",
    "    # add a 0 at the end\n",
    "    L = [0 for i in range(513)]\n",
    "    for i in range(512):\n",
    "        L[i] = 1\n",
    "        constraint_list.append(tuple(L))\n",
    "        L[i] = 0\n",
    "    \n",
    "# each of the list elements is a non-empty list of triples\n",
    "def generate_LP(client_index_list):\n",
    "    print 'generating LP..'\n",
    "    constraint_list = []\n",
    "    \n",
    "    # type 1 constraints\n",
    "    for k in range(3):\n",
    "        for (x,y) in itertools.product(range(2), repeat = 2):\n",
    "            for client_index in c_lists[k]:\n",
    "                for v_arr_c in itertools.product(range(2), repeat = 3):\n",
    "                    v_arr = [change_one((0, 0), c, r) for (c, r) in zip(client_index, v_arr_c)]\n",
    "                    v1_ind = [0,0,0]\n",
    "                    v2_ind = [0,0,0]\n",
    "                    v1_ind[k] = 0\n",
    "                    v2_ind[k] = 1\n",
    "                    v1_ind[(k+1) % 3] = v2_ind[(k+1) % 3] = x\n",
    "                    v1_ind[(k+2) % 3] = v2_ind[(k+2) % 3] = x  \n",
    "                    add_constraints1(constraint_list, client_index, tuple(v1_ind), tuple(v2_ind), v_arr)\n",
    "\n",
    "    # type 2 constraints\n",
    "        \n",
    "    for v_ind in itertools.product(range(2), repeat = 3):\n",
    "        add_constraints2(constraint_list, v_ind)\n",
    "        \n",
    "    add_var_constraints(constraint_list)\n",
    "    p = Polyhedron(constraint_list)\n",
    "    for q in p.Vrepresentation():\n",
    "        print(q)\n",
    "   \n",
    "\n",
    "print 'starting up'\n",
    "vectors = list(itertools.product(range(2), repeat = 3))\n",
    "print 'vectors = ', vectors\n",
    "spread_indices = list(itertools.product(range(3), repeat = 5))\n",
    "# print 'spread_indices = ', spread_indices\n",
    "nsteps = 0\n",
    "for i in spread_indices:\n",
    "    print 'started with i = ',i\n",
    "    flag1 = (1 in i)\n",
    "    flag2 = (1 in i)\n",
    "    endings = []\n",
    "    print 'flags =',\n",
    "    if flag1 and flag2:\n",
    "        endings = list(itertools.product(range(3), repeat = 2))\n",
    "    elif flag1 and not flag2:\n",
    "        endings = [(2,0),(2,1),(2,2),(0,2),(1,2)]\n",
    "    elif flag2 and not flag1:\n",
    "        endings = [(1,0),(1,1),(1,2),(0,1),(2,1)]\n",
    "    else:\n",
    "        endings = [(1,2),(2,1)]\n",
    "    print 'went over endings in ',i,' = ',endings    \n",
    "    for j in endings:\n",
    "        c_distr = i + j\n",
    "        c_lists = [[(0,0,0)],[],[]]\n",
    "        for (t,d) in enumerate(c_distr):\n",
    "            [d].append(vectors[t+1])\n",
    "        print 'c distribution = ',c_distr    \n",
    "        generate_LP(c_lists)\n",
    "        nsteps = nsteps + 1\n",
    "    if nsteps > 10:\n",
    "        break"
   ]
  },
  {
   "cell_type": "code",
   "execution_count": 1,
   "metadata": {
    "collapsed": false
   },
   "outputs": [
    {
     "name": "stdout",
     "output_type": "stream",
     "text": [
      "[0.0, 0.0, 0.0]\n",
      "['y', 'x', 'z']\n",
      "A ray in the direction (2, -1)\n",
      "A ray in the direction (-9, 20)\n",
      "A vertex at (-7/62, -6/31)\n",
      "A 2-dimensional polyhedron in QQ^2 defined as the convex hull of 1 vertex and 2 rays\n"
     ]
    }
   ],
   "source": [
    "p = MixedIntegerLinearProgram()\n",
    "v = p.new_variable(real=True, nonnegative=True)\n",
    "p.solve()\n",
    "x, y, z = v['x'], v['y'], v['z']\n",
    "type(2*x <= 0)\n",
    "v = p.get_values(v)\n",
    "print v.values()\n",
    "print v.keys()\n",
    "p = Polyhedron(ieqs = [(1,2,4), (3,5,7), (4,20,9)])\n",
    "for q in p.Vrepresentation():\n",
    "    print(q)\n",
    "print p"
   ]
  },
  {
   "cell_type": "code",
   "execution_count": 0,
   "metadata": {
    "collapsed": true
   },
   "outputs": [
   ],
   "source": [
   ]
  },
  {
   "cell_type": "code",
   "execution_count": 4,
   "metadata": {
    "collapsed": false
   },
   "outputs": [
    {
     "data": {
      "text/plain": [
       "9"
      ]
     },
     "execution_count": 4,
     "metadata": {
     },
     "output_type": "execute_result"
    }
   ],
   "source": [
    "import random\n",
    "max([random.randint(0,9) for i in range(512)])"
   ]
  },
  {
   "cell_type": "code",
   "execution_count": 0,
   "metadata": {
    "collapsed": true
   },
   "outputs": [
   ],
   "source": [
   ]
  }
 ],
 "metadata": {
  "kernelspec": {
   "display_name": "SageMath (stable)",
   "name": "sagemath"
  },
  "language_info": {
   "codemirror_mode": {
    "name": "ipython",
    "version": 2
   },
   "file_extension": ".py",
   "mimetype": "text/x-python",
   "name": "python",
   "nbconvert_exporter": "python",
   "pygments_lexer": "ipython2",
   "version": "2.7.13"
  }
 },
 "nbformat": 4,
 "nbformat_minor": 0
}