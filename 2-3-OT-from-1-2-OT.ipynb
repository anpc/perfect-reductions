{
 "cells": [
  {
   "cell_type": "markdown",
   "metadata": {},
   "source": [
    "# This project explores the construction of 2-out-of-3-OT from 1-of-2-OT\n",
    "\n",
    "Here we make $T$ parallel calls to the OT oracles.\n",
    "\n",
    "We start with $T = 3$\n",
    "\n",
    "## Problem representation:\n",
    "\n",
    "$C_1,C_2,C_3$ are the client's valid inputs.\n",
    "\n",
    "From client's correctness, each 6-tuple of bits is assigned to some $(x1,x2,x3)$ triple.\n",
    "\n",
    "The assignments should create an independent set in a graph with $2^{2T+3}$ veritces.\n",
    "\n",
    "There is an edge between $v_g$ and ${v'}_{g'}$ iff. $g$ and $g'$ differ of a pair $(i,j)=[3]\\setminus \\{k\\}$ of bits, but $v[c_k] \\ne v'[c_k]$."
   ]
  },
  {
   "cell_type": "code",
   "execution_count": 7,
   "metadata": {
    "collapsed": false
   },
   "outputs": [
    {
     "name": "stdout",
     "output_type": "stream",
     "text": [
      "starting up\n",
      "vectors =  [(0, 0, 0), (0, 0, 1), (0, 1, 0), (0, 1, 1), (1, 0, 0), (1, 0, 1), (1, 1, 0), (1, 1, 1)]\n",
      "started with i =  (0, 0, 0, 0, 0)\n",
      "flags = went over endings in  (0, 0, 0, 0, 0)  =  [(1, 2), (2, 1)]\n",
      "c distribution =  (0, 0, 0, 0, 0, 1, 2)\n",
      "generating LP..\n"
     ]
    },
    {
     "ename": "MemoryError",
     "evalue": "failed to allocate 4 bytes",
     "output_type": "error",
     "traceback": [
      "\u001b[0;31m---------------------------------------------------------------------------\u001b[0m",
      "\u001b[0;31mMemoryError\u001b[0m                               Traceback (most recent call last)",
      "\u001b[0;32m<ipython-input-7-8f2dccb2b0bb>\u001b[0m in \u001b[0;36m<module>\u001b[0;34m()\u001b[0m\n\u001b[1;32m    108\u001b[0m             \u001b[0;34m[\u001b[0m\u001b[0md\u001b[0m\u001b[0;34m]\u001b[0m\u001b[0;34m.\u001b[0m\u001b[0mappend\u001b[0m\u001b[0;34m(\u001b[0m\u001b[0mvectors\u001b[0m\u001b[0;34m[\u001b[0m\u001b[0mt\u001b[0m\u001b[0;34m+\u001b[0m\u001b[0mInteger\u001b[0m\u001b[0;34m(\u001b[0m\u001b[0;36m1\u001b[0m\u001b[0;34m)\u001b[0m\u001b[0;34m]\u001b[0m\u001b[0;34m)\u001b[0m\u001b[0;34m\u001b[0m\u001b[0m\n\u001b[1;32m    109\u001b[0m         \u001b[0;32mprint\u001b[0m \u001b[0;34m'c distribution = '\u001b[0m\u001b[0;34m,\u001b[0m\u001b[0mc_distr\u001b[0m\u001b[0;34m\u001b[0m\u001b[0m\n\u001b[0;32m--> 110\u001b[0;31m         \u001b[0mgenerate_LP\u001b[0m\u001b[0;34m(\u001b[0m\u001b[0mc_lists\u001b[0m\u001b[0;34m)\u001b[0m\u001b[0;34m\u001b[0m\u001b[0m\n\u001b[0m\u001b[1;32m    111\u001b[0m         \u001b[0mnsteps\u001b[0m \u001b[0;34m=\u001b[0m \u001b[0mnsteps\u001b[0m \u001b[0;34m+\u001b[0m \u001b[0mInteger\u001b[0m\u001b[0;34m(\u001b[0m\u001b[0;36m1\u001b[0m\u001b[0;34m)\u001b[0m\u001b[0;34m\u001b[0m\u001b[0m\n\u001b[1;32m    112\u001b[0m     \u001b[0;32mif\u001b[0m \u001b[0mnsteps\u001b[0m \u001b[0;34m>\u001b[0m \u001b[0mInteger\u001b[0m\u001b[0;34m(\u001b[0m\u001b[0;36m10\u001b[0m\u001b[0;34m)\u001b[0m\u001b[0;34m:\u001b[0m\u001b[0;34m\u001b[0m\u001b[0m\n",
      "\u001b[0;32m<ipython-input-7-8f2dccb2b0bb>\u001b[0m in \u001b[0;36mgenerate_LP\u001b[0;34m(client_index_list)\u001b[0m\n\u001b[1;32m     76\u001b[0m \u001b[0;34m\u001b[0m\u001b[0m\n\u001b[1;32m     77\u001b[0m     \u001b[0madd_var_constraints\u001b[0m\u001b[0;34m(\u001b[0m\u001b[0mconstraint_list\u001b[0m\u001b[0;34m)\u001b[0m\u001b[0;34m\u001b[0m\u001b[0m\n\u001b[0;32m---> 78\u001b[0;31m     \u001b[0mp\u001b[0m \u001b[0;34m=\u001b[0m \u001b[0mPolyhedron\u001b[0m\u001b[0;34m(\u001b[0m\u001b[0mconstraint_list\u001b[0m\u001b[0;34m)\u001b[0m\u001b[0;34m\u001b[0m\u001b[0m\n\u001b[0m\u001b[1;32m     79\u001b[0m     \u001b[0;32mfor\u001b[0m \u001b[0mq\u001b[0m \u001b[0;32min\u001b[0m \u001b[0mp\u001b[0m\u001b[0;34m.\u001b[0m\u001b[0mVrepresentation\u001b[0m\u001b[0;34m(\u001b[0m\u001b[0;34m)\u001b[0m\u001b[0;34m:\u001b[0m\u001b[0;34m\u001b[0m\u001b[0m\n\u001b[1;32m     80\u001b[0m         \u001b[0;32mprint\u001b[0m\u001b[0;34m(\u001b[0m\u001b[0mq\u001b[0m\u001b[0;34m)\u001b[0m\u001b[0;34m\u001b[0m\u001b[0m\n",
      "\u001b[0;32m/home/anat/SageMath/local/lib/python2.7/site-packages/sage/geometry/polyhedron/constructor.pyc\u001b[0m in \u001b[0;36mPolyhedron\u001b[0;34m(vertices, rays, lines, ieqs, eqns, ambient_dim, base_ring, minimize, verbose, backend)\u001b[0m\n\u001b[1;32m    504\u001b[0m     \u001b[0;32mif\u001b[0m \u001b[0mgot_Vrep\u001b[0m\u001b[0;34m:\u001b[0m\u001b[0;34m\u001b[0m\u001b[0m\n\u001b[1;32m    505\u001b[0m         \u001b[0mVrep\u001b[0m \u001b[0;34m=\u001b[0m \u001b[0;34m[\u001b[0m\u001b[0mvertices\u001b[0m\u001b[0;34m,\u001b[0m \u001b[0mrays\u001b[0m\u001b[0;34m,\u001b[0m \u001b[0mlines\u001b[0m\u001b[0;34m]\u001b[0m\u001b[0;34m\u001b[0m\u001b[0m\n\u001b[0;32m--> 506\u001b[0;31m     \u001b[0;32mreturn\u001b[0m \u001b[0mparent\u001b[0m\u001b[0;34m(\u001b[0m\u001b[0mVrep\u001b[0m\u001b[0;34m,\u001b[0m \u001b[0mHrep\u001b[0m\u001b[0;34m,\u001b[0m \u001b[0mconvert\u001b[0m\u001b[0;34m=\u001b[0m\u001b[0mconvert\u001b[0m\u001b[0;34m,\u001b[0m \u001b[0mverbose\u001b[0m\u001b[0;34m=\u001b[0m\u001b[0mverbose\u001b[0m\u001b[0;34m)\u001b[0m\u001b[0;34m\u001b[0m\u001b[0m\n\u001b[0m",
      "\u001b[0;32m/home/anat/SageMath/src/sage/structure/parent.pyx\u001b[0m in \u001b[0;36msage.structure.parent.Parent.__call__ (/home/anat/SageMath/src/build/cythonized/sage/structure/parent.c:9826)\u001b[0;34m()\u001b[0m\n\u001b[1;32m    934\u001b[0m                 \u001b[0;32mreturn\u001b[0m \u001b[0mmor\u001b[0m\u001b[0;34m.\u001b[0m\u001b[0m_call_\u001b[0m\u001b[0;34m(\u001b[0m\u001b[0mx\u001b[0m\u001b[0;34m)\u001b[0m\u001b[0;34m\u001b[0m\u001b[0m\n\u001b[1;32m    935\u001b[0m             \u001b[0;32melse\u001b[0m\u001b[0;34m:\u001b[0m\u001b[0;34m\u001b[0m\u001b[0m\n\u001b[0;32m--> 936\u001b[0;31m                 \u001b[0;32mreturn\u001b[0m \u001b[0mmor\u001b[0m\u001b[0;34m.\u001b[0m\u001b[0m_call_with_args\u001b[0m\u001b[0;34m(\u001b[0m\u001b[0mx\u001b[0m\u001b[0;34m,\u001b[0m \u001b[0margs\u001b[0m\u001b[0;34m,\u001b[0m \u001b[0mkwds\u001b[0m\u001b[0;34m)\u001b[0m\u001b[0;34m\u001b[0m\u001b[0m\n\u001b[0m\u001b[1;32m    937\u001b[0m \u001b[0;34m\u001b[0m\u001b[0m\n\u001b[1;32m    938\u001b[0m         \u001b[0;32mraise\u001b[0m \u001b[0mTypeError\u001b[0m\u001b[0;34m(\u001b[0m\u001b[0;34m\"No conversion defined from %s to %s\"\u001b[0m\u001b[0;34m%\u001b[0m\u001b[0;34m(\u001b[0m\u001b[0mR\u001b[0m\u001b[0;34m,\u001b[0m \u001b[0mself\u001b[0m\u001b[0;34m)\u001b[0m\u001b[0;34m)\u001b[0m\u001b[0;34m\u001b[0m\u001b[0m\n",
      "\u001b[0;32m/home/anat/SageMath/src/sage/structure/coerce_maps.pyx\u001b[0m in \u001b[0;36msage.structure.coerce_maps.DefaultConvertMap_unique._call_with_args (/home/anat/SageMath/src/build/cythonized/sage/structure/coerce_maps.c:5322)\u001b[0;34m()\u001b[0m\n\u001b[1;32m    171\u001b[0m                 \u001b[0;32mprint\u001b[0m\u001b[0;34m(\u001b[0m\u001b[0mtype\u001b[0m\u001b[0;34m(\u001b[0m\u001b[0mC\u001b[0m\u001b[0;34m)\u001b[0m\u001b[0;34m,\u001b[0m \u001b[0mC\u001b[0m\u001b[0;34m)\u001b[0m\u001b[0;34m\u001b[0m\u001b[0m\n\u001b[1;32m    172\u001b[0m                 \u001b[0;32mprint\u001b[0m\u001b[0;34m(\u001b[0m\u001b[0mtype\u001b[0m\u001b[0;34m(\u001b[0m\u001b[0mC\u001b[0m\u001b[0;34m.\u001b[0m\u001b[0m_element_constructor\u001b[0m\u001b[0;34m)\u001b[0m\u001b[0;34m,\u001b[0m \u001b[0mC\u001b[0m\u001b[0;34m.\u001b[0m\u001b[0m_element_constructor\u001b[0m\u001b[0;34m)\u001b[0m\u001b[0;34m\u001b[0m\u001b[0m\n\u001b[0;32m--> 173\u001b[0;31m             \u001b[0;32mraise\u001b[0m\u001b[0;34m\u001b[0m\u001b[0m\n\u001b[0m\u001b[1;32m    174\u001b[0m \u001b[0;34m\u001b[0m\u001b[0m\n\u001b[1;32m    175\u001b[0m \u001b[0;34m\u001b[0m\u001b[0m\n",
      "\u001b[0;32m/home/anat/SageMath/src/sage/structure/coerce_maps.pyx\u001b[0m in \u001b[0;36msage.structure.coerce_maps.DefaultConvertMap_unique._call_with_args (/home/anat/SageMath/src/build/cythonized/sage/structure/coerce_maps.c:5209)\u001b[0;34m()\u001b[0m\n\u001b[1;32m    166\u001b[0m                     \u001b[0;32mreturn\u001b[0m \u001b[0mC\u001b[0m\u001b[0;34m.\u001b[0m\u001b[0m_element_constructor\u001b[0m\u001b[0;34m(\u001b[0m\u001b[0mx\u001b[0m\u001b[0;34m,\u001b[0m \u001b[0;34m*\u001b[0m\u001b[0margs\u001b[0m\u001b[0;34m)\u001b[0m\u001b[0;34m\u001b[0m\u001b[0m\n\u001b[1;32m    167\u001b[0m                 \u001b[0;32melse\u001b[0m\u001b[0;34m:\u001b[0m\u001b[0;34m\u001b[0m\u001b[0m\n\u001b[0;32m--> 168\u001b[0;31m                     \u001b[0;32mreturn\u001b[0m \u001b[0mC\u001b[0m\u001b[0;34m.\u001b[0m\u001b[0m_element_constructor\u001b[0m\u001b[0;34m(\u001b[0m\u001b[0mx\u001b[0m\u001b[0;34m,\u001b[0m \u001b[0;34m*\u001b[0m\u001b[0margs\u001b[0m\u001b[0;34m,\u001b[0m \u001b[0;34m**\u001b[0m\u001b[0mkwds\u001b[0m\u001b[0;34m)\u001b[0m\u001b[0;34m\u001b[0m\u001b[0m\n\u001b[0m\u001b[1;32m    169\u001b[0m         \u001b[0;32mexcept\u001b[0m \u001b[0mException\u001b[0m\u001b[0;34m:\u001b[0m\u001b[0;34m\u001b[0m\u001b[0m\n\u001b[1;32m    170\u001b[0m             \u001b[0;32mif\u001b[0m \u001b[0mprint_warnings\u001b[0m\u001b[0;34m:\u001b[0m\u001b[0;34m\u001b[0m\u001b[0m\n",
      "\u001b[0;32m/home/anat/SageMath/local/lib/python2.7/site-packages/sage/geometry/polyhedron/parent.py\u001b[0m in \u001b[0;36m_element_constructor_\u001b[0;34m(self, *args, **kwds)\u001b[0m\n\u001b[1;32m    487\u001b[0m             \u001b[0;32mif\u001b[0m \u001b[0mconvert\u001b[0m \u001b[0;32mand\u001b[0m \u001b[0mVrep\u001b[0m\u001b[0;34m:\u001b[0m\u001b[0;34m\u001b[0m\u001b[0m\n\u001b[1;32m    488\u001b[0m                 \u001b[0mVrep\u001b[0m \u001b[0;34m=\u001b[0m \u001b[0;34m[\u001b[0m\u001b[0mconvert_base_ring\u001b[0m\u001b[0;34m(\u001b[0m\u001b[0m_\u001b[0m\u001b[0;34m)\u001b[0m \u001b[0;32mfor\u001b[0m \u001b[0m_\u001b[0m \u001b[0;32min\u001b[0m \u001b[0mVrep\u001b[0m\u001b[0;34m]\u001b[0m\u001b[0;34m\u001b[0m\u001b[0m\n\u001b[0;32m--> 489\u001b[0;31m             \u001b[0;32mreturn\u001b[0m \u001b[0mself\u001b[0m\u001b[0;34m.\u001b[0m\u001b[0melement_class\u001b[0m\u001b[0;34m(\u001b[0m\u001b[0mself\u001b[0m\u001b[0;34m,\u001b[0m \u001b[0mVrep\u001b[0m\u001b[0;34m,\u001b[0m \u001b[0mHrep\u001b[0m\u001b[0;34m,\u001b[0m \u001b[0;34m**\u001b[0m\u001b[0mkwds\u001b[0m\u001b[0;34m)\u001b[0m\u001b[0;34m\u001b[0m\u001b[0m\n\u001b[0m\u001b[1;32m    490\u001b[0m         \u001b[0;32mif\u001b[0m \u001b[0mnargs\u001b[0m \u001b[0;34m==\u001b[0m \u001b[0;36m1\u001b[0m \u001b[0;32mand\u001b[0m \u001b[0mis_Polyhedron\u001b[0m\u001b[0;34m(\u001b[0m\u001b[0margs\u001b[0m\u001b[0;34m[\u001b[0m\u001b[0;36m0\u001b[0m\u001b[0;34m]\u001b[0m\u001b[0;34m)\u001b[0m\u001b[0;34m:\u001b[0m\u001b[0;34m\u001b[0m\u001b[0m\n\u001b[1;32m    491\u001b[0m             \u001b[0mpolyhedron\u001b[0m \u001b[0;34m=\u001b[0m \u001b[0margs\u001b[0m\u001b[0;34m[\u001b[0m\u001b[0;36m0\u001b[0m\u001b[0;34m]\u001b[0m\u001b[0;34m\u001b[0m\u001b[0m\n",
      "\u001b[0;32m/home/anat/SageMath/local/lib/python2.7/site-packages/sage/geometry/polyhedron/base.pyc\u001b[0m in \u001b[0;36m__init__\u001b[0;34m(self, parent, Vrep, Hrep, **kwds)\u001b[0m\n\u001b[1;32m    121\u001b[0m         \u001b[0;32mif\u001b[0m \u001b[0mVrep\u001b[0m \u001b[0;32mis\u001b[0m \u001b[0;32mnot\u001b[0m \u001b[0mNone\u001b[0m\u001b[0;34m:\u001b[0m\u001b[0;34m\u001b[0m\u001b[0m\n\u001b[1;32m    122\u001b[0m             \u001b[0mvertices\u001b[0m\u001b[0;34m,\u001b[0m \u001b[0mrays\u001b[0m\u001b[0;34m,\u001b[0m \u001b[0mlines\u001b[0m \u001b[0;34m=\u001b[0m \u001b[0mVrep\u001b[0m\u001b[0;34m\u001b[0m\u001b[0m\n\u001b[0;32m--> 123\u001b[0;31m             \u001b[0mself\u001b[0m\u001b[0;34m.\u001b[0m\u001b[0m_init_from_Vrepresentation\u001b[0m\u001b[0;34m(\u001b[0m\u001b[0mvertices\u001b[0m\u001b[0;34m,\u001b[0m \u001b[0mrays\u001b[0m\u001b[0;34m,\u001b[0m \u001b[0mlines\u001b[0m\u001b[0;34m,\u001b[0m \u001b[0;34m**\u001b[0m\u001b[0mkwds\u001b[0m\u001b[0;34m)\u001b[0m\u001b[0;34m\u001b[0m\u001b[0m\n\u001b[0m\u001b[1;32m    124\u001b[0m         \u001b[0;32melif\u001b[0m \u001b[0mHrep\u001b[0m \u001b[0;32mis\u001b[0m \u001b[0;32mnot\u001b[0m \u001b[0mNone\u001b[0m\u001b[0;34m:\u001b[0m\u001b[0;34m\u001b[0m\u001b[0m\n\u001b[1;32m    125\u001b[0m             \u001b[0mieqs\u001b[0m\u001b[0;34m,\u001b[0m \u001b[0meqns\u001b[0m \u001b[0;34m=\u001b[0m \u001b[0mHrep\u001b[0m\u001b[0;34m\u001b[0m\u001b[0m\n",
      "\u001b[0;32m/home/anat/SageMath/local/lib/python2.7/site-packages/sage/geometry/polyhedron/backend_ppl.py\u001b[0m in \u001b[0;36m_init_from_Vrepresentation\u001b[0;34m(self, vertices, rays, lines, minimize, verbose)\u001b[0m\n\u001b[1;32m     91\u001b[0m         \u001b[0;32melse\u001b[0m\u001b[0;34m:\u001b[0m\u001b[0;34m\u001b[0m\u001b[0m\n\u001b[1;32m     92\u001b[0m             \u001b[0mself\u001b[0m\u001b[0;34m.\u001b[0m\u001b[0m_ppl_polyhedron\u001b[0m \u001b[0;34m=\u001b[0m \u001b[0mC_Polyhedron\u001b[0m\u001b[0;34m(\u001b[0m\u001b[0mgs\u001b[0m\u001b[0;34m)\u001b[0m\u001b[0;34m\u001b[0m\u001b[0m\n\u001b[0;32m---> 93\u001b[0;31m         \u001b[0mself\u001b[0m\u001b[0;34m.\u001b[0m\u001b[0m_init_Vrepresentation_from_ppl\u001b[0m\u001b[0;34m(\u001b[0m\u001b[0mminimize\u001b[0m\u001b[0;34m)\u001b[0m\u001b[0;34m\u001b[0m\u001b[0m\n\u001b[0m\u001b[1;32m     94\u001b[0m         \u001b[0mself\u001b[0m\u001b[0;34m.\u001b[0m\u001b[0m_init_Hrepresentation_from_ppl\u001b[0m\u001b[0;34m(\u001b[0m\u001b[0mminimize\u001b[0m\u001b[0;34m)\u001b[0m\u001b[0;34m\u001b[0m\u001b[0m\n\u001b[1;32m     95\u001b[0m \u001b[0;34m\u001b[0m\u001b[0m\n",
      "\u001b[0;32m/home/anat/SageMath/local/lib/python2.7/site-packages/sage/geometry/polyhedron/backend_ppl.py\u001b[0m in \u001b[0;36m_init_Vrepresentation_from_ppl\u001b[0;34m(self, minimize)\u001b[0m\n\u001b[1;32m    159\u001b[0m         \"\"\"\n\u001b[1;32m    160\u001b[0m         \u001b[0mself\u001b[0m\u001b[0;34m.\u001b[0m\u001b[0m_Vrepresentation\u001b[0m \u001b[0;34m=\u001b[0m \u001b[0;34m[\u001b[0m\u001b[0;34m]\u001b[0m\u001b[0;34m\u001b[0m\u001b[0m\n\u001b[0;32m--> 161\u001b[0;31m         \u001b[0mgs\u001b[0m \u001b[0;34m=\u001b[0m \u001b[0mself\u001b[0m\u001b[0;34m.\u001b[0m\u001b[0m_ppl_polyhedron\u001b[0m\u001b[0;34m.\u001b[0m\u001b[0mminimized_generators\u001b[0m\u001b[0;34m(\u001b[0m\u001b[0;34m)\u001b[0m\u001b[0;34m\u001b[0m\u001b[0m\n\u001b[0m\u001b[1;32m    162\u001b[0m         \u001b[0mparent\u001b[0m \u001b[0;34m=\u001b[0m \u001b[0mself\u001b[0m\u001b[0;34m.\u001b[0m\u001b[0mparent\u001b[0m\u001b[0;34m(\u001b[0m\u001b[0;34m)\u001b[0m\u001b[0;34m\u001b[0m\u001b[0m\n\u001b[1;32m    163\u001b[0m         \u001b[0;32mfor\u001b[0m \u001b[0mg\u001b[0m \u001b[0;32min\u001b[0m \u001b[0mgs\u001b[0m\u001b[0;34m:\u001b[0m\u001b[0;34m\u001b[0m\u001b[0m\n",
      "\u001b[0;32m/home/anat/SageMath/src/sage/libs/ppl.pyx\u001b[0m in \u001b[0;36msage.libs.ppl.Polyhedron.minimized_generators (/home/anat/SageMath/src/build/cythonized/sage/libs/ppl.cpp:8880)\u001b[0;34m()\u001b[0m\n\u001b[1;32m   1525\u001b[0m             \u001b[0mGenerator_System\u001b[0m \u001b[0;34m{\u001b[0m\u001b[0mpoint\u001b[0m\u001b[0;34m(\u001b[0m\u001b[0;34m-\u001b[0m\u001b[0;36m1\u001b[0m\u001b[0;34m/\u001b[0m\u001b[0;36m1\u001b[0m\u001b[0;34m,\u001b[0m \u001b[0;34m-\u001b[0m\u001b[0;36m1\u001b[0m\u001b[0;34m/\u001b[0m\u001b[0;36m1\u001b[0m\u001b[0;34m,\u001b[0m \u001b[0;36m0\u001b[0m\u001b[0;34m/\u001b[0m\u001b[0;36m1\u001b[0m\u001b[0;34m)\u001b[0m\u001b[0;34m,\u001b[0m \u001b[0mpoint\u001b[0m\u001b[0;34m(\u001b[0m\u001b[0;36m1\u001b[0m\u001b[0;34m/\u001b[0m\u001b[0;36m1\u001b[0m\u001b[0;34m,\u001b[0m \u001b[0;36m1\u001b[0m\u001b[0;34m/\u001b[0m\u001b[0;36m1\u001b[0m\u001b[0;34m,\u001b[0m \u001b[0;36m0\u001b[0m\u001b[0;34m/\u001b[0m\u001b[0;36m1\u001b[0m\u001b[0;34m)\u001b[0m\u001b[0;34m}\u001b[0m\u001b[0;34m\u001b[0m\u001b[0m\n\u001b[1;32m   1526\u001b[0m         \"\"\"\n\u001b[0;32m-> 1527\u001b[0;31m         \u001b[0msig_on\u001b[0m\u001b[0;34m(\u001b[0m\u001b[0;34m)\u001b[0m\u001b[0;34m\u001b[0m\u001b[0m\n\u001b[0m\u001b[1;32m   1528\u001b[0m         \u001b[0mcdef\u001b[0m \u001b[0mPPL_Generator_System\u001b[0m \u001b[0mgs\u001b[0m \u001b[0;34m=\u001b[0m \u001b[0mself\u001b[0m\u001b[0;34m.\u001b[0m\u001b[0mthisptr\u001b[0m\u001b[0;34m.\u001b[0m\u001b[0mminimized_generators\u001b[0m\u001b[0;34m(\u001b[0m\u001b[0;34m)\u001b[0m\u001b[0;34m\u001b[0m\u001b[0m\n\u001b[1;32m   1529\u001b[0m         \u001b[0msig_off\u001b[0m\u001b[0;34m(\u001b[0m\u001b[0;34m)\u001b[0m\u001b[0;34m\u001b[0m\u001b[0m\n",
      "\u001b[0;31mMemoryError\u001b[0m: failed to allocate 4 bytes"
     ]
    }
   ],
   "source": [
    "import itertools\n",
    "import pprint\n",
    "\n",
    "# TODO: change hardcoded 3 into T everywhere in the code\n",
    "\n",
    "def tup_2_num(g):\n",
    "    (ind, v_arr) = g\n",
    "    return 256*ind[0] + 128*ind[1] + 64*ind[2] + v_arr[2][1] + 2*v_arr[2][0] + 4*v_arr[1][1] + 8*v_arr[1][0] + 16*v_arr[0][1] + 32*v_arr[0][0]\n",
    "\n",
    "def change_one(pair, index, new_value):\n",
    "    \"\"\"Return new tuple with one element modified.\"\"\"\n",
    "    new_pair = list(pair)\n",
    "    new_pair[index] = new_value\n",
    "    return tuple(new_pair)\n",
    "\n",
    "def product(*args, **kwargs):\n",
    "    return list(itertools.product(*args, **kwargs))\n",
    "\n",
    "# v_arr has the right value at c projection fixed\n",
    "def add_constraints1(constraint_list, client_index, v_ind1, v_ind2, v_arr):\n",
    "     weights = {}\n",
    "     v_ind_list = [v_ind1, v_ind2]\n",
    "     w = [1, -1] \n",
    "     L = [0 for i in range(512)]   \n",
    "     for i in range(2):\n",
    "         v_ind = v_ind_list[i]\n",
    "         weight = w[i]   \n",
    "         for rest in itertools.product(range(2), repeat = 3):\n",
    "             v_arr_new = tuple([change_one(pair, c^1, r)\n",
    "                                        for (pair, c, r) in zip(v_arr, client_index, rest)])\n",
    "             L[tup_2_num((v_ind, v_arr_new))] = weight\n",
    "     constraint_list.append(tuple(L + [0]))\n",
    "     constraint_list.append(tuple([-x for x in L] + [0]))   \n",
    "        \n",
    "def add_constraints2(constraint_list, v_ind):\n",
    "    L = [0 for i in range(512)]\n",
    "    for v_arr in product(list(product(range(2), repeat = 2)), repeat = 3):\n",
    "        L[tup_2_num((v_ind, v_arr))] = -1\n",
    "    constraint_list.append(tuple(L + [1]))\n",
    "    constraint_list.append(tuple([-x for x in L] + [-1]))\n",
    "    # print 'added according to L = ',L    \n",
    "    # p.add_constraint(sum(lv[o] for o in L) <= 1)\n",
    "    # p.add_constraint(sum(-lv[o] for o in L) <= -1)\n",
    "\n",
    "def add_var_constraints(constraint_list):\n",
    "    # add a 0 at the end\n",
    "    L = [0 for i in range(513)]\n",
    "    for i in range(512):\n",
    "        L[i] = 1\n",
    "        constraint_list.append(tuple(L))\n",
    "        L[i] = 0\n",
    "    \n",
    "# each of the list elements is a non-empty list of triples\n",
    "def generate_LP(client_index_list):\n",
    "    print 'generating LP..'\n",
    "    constraint_list = []\n",
    "    \n",
    "    # type 1 constraints\n",
    "    for k in range(3):\n",
    "        for (x,y) in itertools.product(range(2), repeat = 2):\n",
    "            for client_index in c_lists[k]:\n",
    "                for v_arr_c in itertools.product(range(2), repeat = 3):\n",
    "                    v_arr = [change_one((0, 0), c, r) for (c, r) in zip(client_index, v_arr_c)]\n",
    "                    v1_ind = [0,0,0]\n",
    "                    v2_ind = [0,0,0]\n",
    "                    v1_ind[k] = 0\n",
    "                    v2_ind[k] = 1\n",
    "                    v1_ind[(k+1) % 3] = v2_ind[(k+1) % 3] = x\n",
    "                    v1_ind[(k+2) % 3] = v2_ind[(k+2) % 3] = x  \n",
    "                    add_constraints1(constraint_list, client_index, tuple(v1_ind), tuple(v2_ind), v_arr)\n",
    "\n",
    "    # type 2 constraints\n",
    "        \n",
    "    for v_ind in itertools.product(range(2), repeat = 3):\n",
    "        add_constraints2(constraint_list, v_ind)\n",
    "        \n",
    "    add_var_constraints(constraint_list)\n",
    "    p = Polyhedron(constraint_list)\n",
    "    for q in p.Vrepresentation():\n",
    "        print(q)\n",
    "   \n",
    "\n",
    "print 'starting up'\n",
    "vectors = list(itertools.product(range(2), repeat = 3))\n",
    "print 'vectors = ', vectors\n",
    "spread_indices = list(itertools.product(range(3), repeat = 5))\n",
    "# print 'spread_indices = ', spread_indices\n",
    "nsteps = 0\n",
    "for i in spread_indices:\n",
    "    print 'started with i = ',i\n",
    "    flag1 = (1 in i)\n",
    "    flag2 = (1 in i)\n",
    "    endings = []\n",
    "    print 'flags =',\n",
    "    if flag1 and flag2:\n",
    "        endings = list(itertools.product(range(3), repeat = 2))\n",
    "    elif flag1 and not flag2:\n",
    "        endings = [(2,0),(2,1),(2,2),(0,2),(1,2)]\n",
    "    elif flag2 and not flag1:\n",
    "        endings = [(1,0),(1,1),(1,2),(0,1),(2,1)]\n",
    "    else:\n",
    "        endings = [(1,2),(2,1)]\n",
    "    print 'went over endings in ',i,' = ',endings    \n",
    "    for j in endings:\n",
    "        c_distr = i + j\n",
    "        c_lists = [[(0,0,0)],[],[]]\n",
    "        for (t,d) in enumerate(c_distr):\n",
    "            [d].append(vectors[t+1])\n",
    "        print 'c distribution = ',c_distr    \n",
    "        generate_LP(c_lists)\n",
    "        nsteps = nsteps + 1\n",
    "    if nsteps > 10:\n",
    "        break"
   ]
  },
  {
   "cell_type": "code",
   "execution_count": null,
   "metadata": {
    "collapsed": false
   },
   "outputs": [],
   "source": [
    "p = MixedIntegerLinearProgram()\n",
    "v = p.new_variable(real=True, nonnegative=True)\n",
    "p.solve()\n",
    "x, y, z = v['x'], v['y'], v['z']\n",
    "type(2*x <= 0)\n",
    "v = p.get_values(v)\n",
    "print v.values()\n",
    "print v.keys()\n",
    "p = Polyhedron(ieqs = [(1,2,4), (3,5,7), (4,20,9)])\n",
    "for q in p.Vrepresentation():\n",
    "    print(q)\n",
    "print p"
   ]
  },
  {
   "cell_type": "code",
   "execution_count": null,
   "metadata": {
    "collapsed": true
   },
   "outputs": [],
   "source": []
  },
  {
   "cell_type": "code",
   "execution_count": null,
   "metadata": {
    "collapsed": true
   },
   "outputs": [],
   "source": []
  },
  {
   "cell_type": "code",
   "execution_count": null,
   "metadata": {
    "collapsed": true
   },
   "outputs": [],
   "source": []
  }
 ],
 "metadata": {
  "kernelspec": {
   "display_name": "SageMath 8.0",
   "language": "",
   "name": "sagemath"
  },
  "language_info": {
   "codemirror_mode": {
    "name": "ipython",
    "version": 2
   },
   "file_extension": ".py",
   "mimetype": "text/x-python",
   "name": "python",
   "nbconvert_exporter": "python",
   "pygments_lexer": "ipython2",
   "version": "2.7.13"
  }
 },
 "nbformat": 4,
 "nbformat_minor": 2
}
